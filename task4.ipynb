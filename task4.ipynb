{
 "cells": [
  {
   "cell_type": "code",
   "execution_count": 1,
   "id": "2304722b-e452-400e-81f4-f1b22e5b40bf",
   "metadata": {},
   "outputs": [
    {
     "name": "stdout",
     "output_type": "stream",
     "text": [
      "Requirement already satisfied: cryptography in h:\\new anaconda\\lib\\site-packages (42.0.2)\n",
      "Requirement already satisfied: cffi>=1.12 in h:\\new anaconda\\lib\\site-packages (from cryptography) (1.16.0)\n",
      "Requirement already satisfied: pycparser in h:\\new anaconda\\lib\\site-packages (from cffi>=1.12->cryptography) (2.21)\n",
      "Note: you may need to restart the kernel to use updated packages.\n"
     ]
    }
   ],
   "source": [
    "pip install cryptography"
   ]
  },
  {
   "cell_type": "code",
   "execution_count": 2,
   "id": "76f69b1b-e3bb-4531-be5e-3a3023a47459",
   "metadata": {},
   "outputs": [],
   "source": [
    "from cryptography.hazmat.primitives.asymmetric import rsa\n",
    "from cryptography.hazmat.primitives import serialization\n",
    "\n",
    "def generate_keys():\n",
    "    private_key = rsa.generate_private_key(\n",
    "        public_exponent=65537,\n",
    "        key_size=2048,\n",
    "    )\n",
    "    public_key = private_key.public_key()\n",
    "\n",
    "    # Save the private key\n",
    "    with open(\"private_key.pem\", \"wb\") as private_key_file:\n",
    "        private_key_file.write(\n",
    "            private_key.private_bytes(\n",
    "                encoding=serialization.Encoding.PEM,\n",
    "                format=serialization.PrivateFormat.TraditionalOpenSSL,\n",
    "                encryption_algorithm=serialization.NoEncryption()\n",
    "            )\n",
    "        )\n",
    "\n",
    "    # Save the public key\n",
    "    with open(\"public_key.pem\", \"wb\") as public_key_file:\n",
    "        public_key_file.write(\n",
    "            public_key.public_bytes(\n",
    "                encoding=serialization.Encoding.PEM,\n",
    "                format=serialization.PublicFormat.SubjectPublicKeyInfo\n",
    "            )\n",
    "        )\n",
    "\n",
    "generate_keys()"
   ]
  },
  {
   "cell_type": "code",
   "execution_count": 3,
   "id": "47e2e4ec-26e7-442e-8145-6966a4cf4520",
   "metadata": {},
   "outputs": [],
   "source": [
    "from cryptography.hazmat.primitives.asymmetric import padding\n",
    "from cryptography.hazmat.primitives import hashes\n",
    "\n",
    "def encrypt_file(file_path, public_key_path):\n",
    "    with open(file_path, \"rb\") as file:\n",
    "        file_data = file.read()\n",
    "\n",
    "    with open(public_key_path, \"rb\") as key_file:\n",
    "        public_key = serialization.load_pem_public_key(key_file.read())\n",
    "\n",
    "    encrypted_data = public_key.encrypt(\n",
    "        file_data,\n",
    "        padding.OAEP(\n",
    "            mgf=padding.MGF1(algorithm=hashes.SHA256()),\n",
    "            algorithm=hashes.SHA256(),\n",
    "            label=None\n",
    "        )\n",
    "    )\n",
    "\n",
    "    with open(f\"{file_path}.enc\", \"wb\") as encrypted_file:\n",
    "        encrypted_file.write(encrypted_data)\n",
    "\n",
    "encrypt_file(\"file.txt\", \"public_key.pem\")"
   ]
  },
  {
   "cell_type": "code",
   "execution_count": 4,
   "id": "c9145da3-32dd-4522-b0a0-57e2cd639e5a",
   "metadata": {},
   "outputs": [],
   "source": [
    "import os\n",
    "\n",
    "def encrypt_file(file_path, public_key_path):\n",
    "    if not os.path.exists(file_path):\n",
    "        raise FileNotFoundError(f\"The file {file_path} does not exist.\")\n",
    "    if not os.path.exists(public_key_path):\n",
    "        raise FileNotFoundError(f\"The public key file {public_key_path} does not exist.\")\n",
    "\n",
    "    with open(file_path, \"rb\") as file:\n",
    "        file_data = file.read()\n",
    "\n",
    "    with open(public_key_path, \"rb\") as key_file:\n",
    "        public_key = key_file.read()\n",
    "\n",
    "    # Add encryption logic here (e.g., using cryptography library)\n",
    "\n",
    "    encrypted_data = b\"Encrypted content\"  # Placeholder\n",
    "    with open(f\"{file_path}.enc\", \"wb\") as encrypted_file:\n",
    "        encrypted_file.write(encrypted_data)"
   ]
  },
  {
   "cell_type": "code",
   "execution_count": 5,
   "id": "8f26855f-f671-4646-8105-1a18d5113a60",
   "metadata": {},
   "outputs": [],
   "source": [
    "def decrypt_file(encrypted_file_path, private_key_path):\n",
    "    with open(encrypted_file_path, \"rb\") as encrypted_file:\n",
    "        encrypted_data = encrypted_file.read()\n",
    "\n",
    "    with open(private_key_path, \"rb\") as key_file:\n",
    "        private_key = serialization.load_pem_private_key(key_file.read(), password=None)\n",
    "\n",
    "    decrypted_data = private_key.decrypt(\n",
    "        encrypted_data,\n",
    "        padding.OAEP(\n",
    "            mgf=padding.MGF1(algorithm=hashes.SHA256()),\n",
    "            algorithm=hashes.SHA256(),\n",
    "            label=None\n",
    "        )\n",
    "    )\n",
    "\n",
    "    with open(f\"{encrypted_file_path}.dec\", \"wb\") as decrypted_file:\n",
    "        decrypted_file.write(decrypted_data)\n",
    "\n",
    "decrypt_file(\"file.txt.enc\", \"private_key.pem\")"
   ]
  },
  {
   "cell_type": "code",
   "execution_count": null,
   "id": "f8d7829d-a6d2-470e-946d-2d5df2eadb1a",
   "metadata": {},
   "outputs": [],
   "source": []
  }
 ],
 "metadata": {
  "kernelspec": {
   "display_name": "Python 3 (ipykernel)",
   "language": "python",
   "name": "python3"
  },
  "language_info": {
   "codemirror_mode": {
    "name": "ipython",
    "version": 3
   },
   "file_extension": ".py",
   "mimetype": "text/x-python",
   "name": "python",
   "nbconvert_exporter": "python",
   "pygments_lexer": "ipython3",
   "version": "3.11.7"
  }
 },
 "nbformat": 4,
 "nbformat_minor": 5
}
